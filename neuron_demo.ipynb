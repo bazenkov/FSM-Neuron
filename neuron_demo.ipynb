{
 "cells": [
  {
   "cell_type": "code",
   "execution_count": 5,
   "metadata": {},
   "outputs": [
    {
     "name": "stdout",
     "output_type": "stream",
     "text": [
      "Half-center oscillator:\n",
      "N1\t|0.91|   0|   2|   0|   2|   0|   2|   0|   2|   0|   2\n",
      "N2\t|0.92| .92|   0|   2|   0|   2|   0|   2|   0|   2|   0\n",
      "ACH\t|   0| .92|   0|   2|   0|   2|   0|   2|   0|   2|   0\n",
      "GLU\t|   0|   0|   2|   0|   2|   0|   2|   0|   2|   0|   2\n"
     ]
    },
    {
     "data": {
      "image/png": "[encoded data removed]",
      "text/plain": [
       "<Figure size 432x288 with 4 Axes>"
      ]
     },
     "metadata": {
      "needs_background": "light"
     },
     "output_type": "display_data"
    },
    {
     "name": "stdout",
     "output_type": "stream",
     "text": [
      "{'act': {-2: 0, -1: 0, 0: 1, 1: 2}, 'inh': {-2: 0, -1: 2, 0: 2, 1: 2}}\n",
      "{'act': {-2: 0, -1: 0, 0: 1, 1: 2}, 'inh': {-2: 0, -1: 2, 0: 2, 1: 2}}\n"
     ]
    }
   ],
   "source": [
    "import neuron as nrn\n",
    "import demo\n",
    "neurons = demo.demo_hco()\n",
    "print(neurons[0].output_matrix)\n",
    "print(neurons[1].output_matrix)"
   ]
  },
  {
   "cell_type": "code",
   "execution_count": null,
   "metadata": {},
   "outputs": [],
   "source": []
  }
 ],
 "metadata": {
  "kernelspec": {
   "display_name": "Python 3",
   "language": "python",
   "name": "python3"
  },
  "language_info": {
   "codemirror_mode": {
    "name": "ipython",
    "version": 3
   },
   "file_extension": ".py",
   "mimetype": "text/x-python",
   "name": "python",
   "nbconvert_exporter": "python",
   "pygments_lexer": "ipython3",
   "version": "3.7.0"
  }
 },
 "nbformat": 4,
 "nbformat_minor": 2
}
